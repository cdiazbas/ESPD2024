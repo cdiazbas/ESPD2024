{
 "cells": [
  {
   "cell_type": "markdown",
   "metadata": {},
   "source": [
    "# Forecast transit time\n",
    "\n",
    "In this notebook we are going to train a model to forecast the transit time of a Coronal Mass Ejection (CME) from the Sun to Earth. This is a regression task, so each CME event is associated with the value of the transit time from the Sun to Earth, calculated as the difference between the take-off time and the arrival time. "
   ]
  },
  {
   "cell_type": "markdown",
   "metadata": {},
   "source": [
    "We will use a dataset already prepared by [Alobaid et al. 2022](https://www.frontiersin.org/articles/10.3389/fspas.2022.1013345/full) and available at the following [link](https://github.com/deepsuncode/CMETNet/blob/main/CMETNet_Package/data/ICME_list.csv).\n"
   ]
  },
  {
   "cell_type": "code",
   "execution_count": null,
   "metadata": {},
   "outputs": [],
   "source": [
    "import matplotlib.pyplot as plt\n",
    "import numpy as np\n",
    "import pandas as pd\n"
   ]
  },
  {
   "cell_type": "code",
   "execution_count": null,
   "metadata": {},
   "outputs": [],
   "source": [
    "# Download the dataset:\n",
    "link = 'https://raw.githubusercontent.com/deepsuncode/CMETNet/main/CMETNet_Package/data/ICME_list.csv'\n",
    "\n",
    "download = False\n",
    "if download:\n",
    "    import urllib.request\n",
    "    import os\n",
    "    os.makedirs('transitTime', exist_ok=True)\n",
    "    urllib.request.urlretrieve(link, 'transitTime/ICME_list.csv')"
   ]
  },
  {
   "cell_type": "code",
   "execution_count": null,
   "metadata": {},
   "outputs": [],
   "source": [
    "# Read the dataset with pandas:\n",
    "df = pd.read_csv('transitTime/ICME_list.csv')"
   ]
  },
  {
   "cell_type": "code",
   "execution_count": null,
   "metadata": {},
   "outputs": [],
   "source": [
    "df"
   ]
  },
  {
   "cell_type": "markdown",
   "metadata": {},
   "source": [
    "## Data exploration:"
   ]
  },
  {
   "cell_type": "code",
   "execution_count": null,
   "metadata": {},
   "outputs": [],
   "source": [
    "# Number of CMEs per year:\n",
    "df['year'] = pd.to_datetime(df['disturbance']).dt.year\n",
    "df['year'].value_counts().sort_index().plot(kind='bar')\n",
    "plt.xlabel('Year')\n",
    "plt.ylabel('Number of CMEs')\n",
    "plt.title('Number of CMEs per year')\n",
    "# delete the year column\n",
    "df = df.drop(columns=['year'])"
   ]
  },
  {
   "cell_type": "code",
   "execution_count": null,
   "metadata": {},
   "outputs": [],
   "source": [
    "# CME transit time distribution:\n",
    "df['transit_time'].plot(kind='hist', bins=20)\n",
    "plt.xlabel('Transit time [days]')\n",
    "plt.ylabel('Number of CMEs')\n",
    "plt.title('CME transit time distribution')\n"
   ]
  },
  {
   "cell_type": "code",
   "execution_count": null,
   "metadata": {},
   "outputs": [],
   "source": [
    "# Drop those with more than 120 days of transit time:\n",
    "df = df[df['transit_time'] <= 120]"
   ]
  },
  {
   "cell_type": "code",
   "execution_count": null,
   "metadata": {},
   "outputs": [],
   "source": [
    "# Regression analysis:\n",
    "from sklearn.linear_model import LinearRegression\n",
    "\n",
    "# ydata, the target variable:\n",
    "ydata = df['transit_time'].values\n",
    "\n",
    "# xdata, the rest of the features:\n",
    "xdata = df.drop(columns=['disturbance', 'transit_time']).values\n",
    "feature_names = df.drop(columns=['disturbance', 'transit_time']).columns\n"
   ]
  },
  {
   "cell_type": "markdown",
   "metadata": {},
   "source": [
    "## Regression task:"
   ]
  },
  {
   "cell_type": "markdown",
   "metadata": {},
   "source": [
    "To test the performance of several models we will use a linear regressor, and an artificial neural network."
   ]
  },
  {
   "cell_type": "code",
   "execution_count": null,
   "metadata": {},
   "outputs": [],
   "source": [
    "# Standarization of the features:\n",
    "from sklearn.preprocessing import StandardScaler\n",
    "scaler = StandardScaler()\n",
    "\n",
    "xdata_scaled = scaler.fit_transform(xdata)\n",
    "\n",
    "\n",
    "\n",
    "# Linear regression:\n",
    "model = LinearRegression()\n",
    "model.fit(xdata_scaled, ydata)\n",
    "\n",
    "# Coefficients, sorted vertically:\n",
    "coefficients = pd.Series(model.coef_, index=feature_names).sort_values()\n",
    "coefficients.plot(kind='bar', color='skyblue')\n",
    "plt.ylabel('Coefficient')\n",
    "plt.title('Linear regression coefficients')\n",
    "# plt.xticks(rotation=45)\n"
   ]
  },
  {
   "cell_type": "markdown",
   "metadata": {},
   "source": [
    "It looks that there is one feature that is very important for the transit time of CMEs. Let's see which one it is:\n"
   ]
  },
  {
   "cell_type": "code",
   "execution_count": null,
   "metadata": {},
   "outputs": [],
   "source": [
    "largestcoef = np.argmax(np.abs(model.coef_))\n",
    "print(f'The most important feature is {feature_names[largestcoef]} with a coefficient of {model.coef_[largestcoef]:.2f}')"
   ]
  },
  {
   "cell_type": "code",
   "execution_count": null,
   "metadata": {},
   "outputs": [],
   "source": [
    "# Prediction vs real transit time:\n",
    "y_pred = model.predict(xdata_scaled)\n",
    "plt.scatter(ydata, y_pred, marker='.')   # scatter plot\n",
    "plt.xlabel('Real transit time [hrs]')\n",
    "plt.ylabel('Predicted transit time [hrs]')\n",
    "plt.title('Prediction vs real transit time')\n",
    "plt.plot([ydata.min(), ydata.max()], [ydata.min(), ydata.max()], color='k', linestyle='--')   # diagonal line\n",
    "\n",
    "print('R2 score:', model.score(xdata_scaled, ydata))\n",
    "print('MSE:', np.mean((ydata - y_pred)**2))"
   ]
  },
  {
   "cell_type": "code",
   "execution_count": null,
   "metadata": {},
   "outputs": [],
   "source": [
    "# Artificial neural network with pytorch:\n",
    "import torch\n",
    "import torch.nn as nn\n",
    "import torch.optim as optim\n",
    "\n",
    "# Neural network:\n",
    "class Net(nn.Module):\n",
    "    def __init__(self, input_size):\n",
    "        super(Net, self).__init__()\n",
    "        self.fc1 = nn.Linear(input_size, 32)\n",
    "        self.fc2 = nn.Linear(32, 1)\n",
    "        self.activation = nn.ELU()\n",
    "\n",
    "    def forward(self, x):\n",
    "        x = self.fc1(x)\n",
    "        x = self.activation(x)\n",
    "        x = self.fc2(x)\n",
    "        return x\n",
    "    \n",
    "    def fit(self, xdata, ydata, epochs=1000, lr=0.01, verbose=True, xtest=None, ytest=None):\n",
    "        criterion = nn.MSELoss()\n",
    "        optimizer = optim.Adam(self.parameters(), lr=lr)\n",
    "        \n",
    "        xdata_tensor = torch.tensor(xdata, dtype=torch.float32)\n",
    "        ydata_tensor = torch.tensor(ydata, dtype=torch.float32).reshape(-1, 1)\n",
    "        \n",
    "        if xtest is not None and ytest is not None:\n",
    "            xtest_tensor = torch.tensor(xtest, dtype=torch.float32)\n",
    "            ytest_tensor = torch.tensor(ytest, dtype=torch.float32).reshape(-1, 1)\n",
    "        \n",
    "        loss_train = []\n",
    "        loss_test = []\n",
    "        \n",
    "        for epoch in range(epochs):\n",
    "            optimizer.zero_grad()\n",
    "            output = self(xdata_tensor)\n",
    "            loss = criterion(output, ydata_tensor)\n",
    "            loss.backward()\n",
    "            optimizer.step()\n",
    "            loss_train.append(loss.item())\n",
    "            \n",
    "            if epoch % 100 == 0 and verbose:\n",
    "                print(f'Epoch {epoch}, loss: {loss.item()}', flush=True)\n",
    "            \n",
    "            if xtest is not None and ytest is not None:\n",
    "                loss_test.append(criterion(self(xtest_tensor), ytest_tensor).item())\n",
    "        \n",
    "        return loss_train, loss_test\n",
    "                \n",
    "                \n",
    "    def predict(self, xdata):\n",
    "        xdata_tensor = torch.tensor(xdata, dtype=torch.float32)\n",
    "        return self(xdata_tensor).detach().numpy().ravel()\n",
    "    \n",
    "    def score(self, xdata, ydata):\n",
    "        y_pred = self.predict(xdata)\n",
    "        return 1 - np.mean((ydata - y_pred)**2) / np.mean((ydata - ydata.mean())**2)\n",
    "\n",
    "model = Net(input_size=xdata.shape[1])\n",
    "\n",
    "# Split the data into training and testing:\n",
    "from sklearn.model_selection import train_test_split\n",
    "xtrain, xtest, ytrain, ytest = train_test_split(xdata_scaled, ydata, test_size=0.2, random_state=42)\n",
    "\n",
    "\n",
    "loss_train, loss_test = model.fit(xtrain, ytrain, epochs=3000, lr=0.001, verbose=False, xtest=xtest, ytest=ytest)\n",
    "\n",
    "plt.plot(loss_train, label='Training loss')\n",
    "plt.plot(loss_test, label='Testing loss')\n",
    "plt.xlabel('Epoch')\n",
    "plt.ylabel('Loss')\n",
    "plt.title('Min test loss: {:.2f} at epoch {}'.format(min(loss_test), np.argmin(loss_test)))\n",
    "plt.yscale('log')\n",
    "plt.legend()\n",
    "\n",
    "\n",
    "\n",
    "# Prediction vs real transit time:\n",
    "plt.figure()\n",
    "y_predtest = model.predict(xtest)\n",
    "plt.scatter(ytest, y_predtest, color='C1', marker='.')   # scatter plot\n",
    "y_predtrain = model.predict(xtrain)\n",
    "plt.scatter(ytrain, y_predtrain, color='C0', marker='.')   # scatter plot\n",
    "\n",
    "plt.xlabel('Real transit time [hrs]')\n",
    "plt.ylabel('Predicted transit time [hrs]')\n",
    "plt.title('Prediction vs real transit time')\n",
    "plt.plot([ydata.min(), ydata.max()], [ydata.min(), ydata.max()], color='k', linestyle='--')   # diagonal line\n",
    "\n",
    "y_pred = model.predict(xdata_scaled)\n",
    "print('R2 score:', model.score(xdata_scaled, ydata))\n",
    "print('MSE:', np.mean((ydata - y_pred)**2))"
   ]
  },
  {
   "cell_type": "markdown",
   "metadata": {},
   "source": [
    "## Symbolic regression using pySR:"
   ]
  },
  {
   "cell_type": "markdown",
   "metadata": {},
   "source": [
    "In the previous case we used a linear regressor and an artificial neural network. The linear regressor has high interpretability but low performance, while the artificial neural network has high performance but low interpretability. In this case we will use symbolic regression to find a mathematical expression that relates the input features to the target variable, so we can have a model with good average performance and good interpretability.\n",
    "\n",
    "The idea of symbolic regression is to find a mathematical expression that relates the input features to the target variable. The symbolic regression algorithm will search for the best mathematical expression that fits the data, and the result will be a mathematical expression that can be used to predict the target variable. These expressions are ordered in terms of complexity and performance, so we can choose the best expression that fits our needs."
   ]
  },
  {
   "cell_type": "code",
   "execution_count": null,
   "metadata": {},
   "outputs": [],
   "source": [
    "try:\n",
    "    import pysr\n",
    "except:\n",
    "   %pip install pysr\n",
    "   import pysr \n",
    "    "
   ]
  },
  {
   "cell_type": "code",
   "execution_count": null,
   "metadata": {},
   "outputs": [],
   "source": [
    "from pysr import PySRRegressor\n",
    "\n",
    "model = PySRRegressor(niterations=200, binary_operators=[\"*\", \"+\", \"-\", \"/\", \"^\"], elementwise_loss=\"loss(predictions, target) = abs(predictions - target)\", warm_start=True, constraints={'^': (-1, 3)})\n",
    "model.fit(xdata_scaled, ydata)\n"
   ]
  },
  {
   "cell_type": "code",
   "execution_count": null,
   "metadata": {},
   "outputs": [],
   "source": [
    "# Equation with the largest score:\n",
    "model.equations_.iloc[model.equations_['score'].idxmax()]"
   ]
  },
  {
   "cell_type": "code",
   "execution_count": null,
   "metadata": {},
   "outputs": [],
   "source": [
    "# Prediction vs real transit time:\n",
    "plt.figure()\n",
    "y_pred = model.predict(xdata_scaled)\n",
    "plt.scatter(ydata, y_pred, marker='.')   # scatter plot\n",
    "plt.xlabel('Real transit time [hrs]')\n",
    "plt.ylabel('Predicted transit time [hrs]')\n",
    "plt.title('Prediction vs real transit time')\n",
    "plt.plot([ydata.min(), ydata.max()], [ydata.min(), ydata.max()], color='k', linestyle='--')   # diagonal line\n",
    "\n",
    "print('R2 score:', model.score(xdata_scaled, ydata))\n",
    "print('MSE:', np.mean((ydata - y_pred)**2))\n",
    "\n",
    "# Write the text on the plot:\n",
    "eq_name = model.equations_.iloc[model.equations_['score'].idxmax()].equation\n",
    "plt.text(0.1, 0.9, eq_name, fontsize=12, transform=plt.gca().transAxes)\n"
   ]
  },
  {
   "cell_type": "code",
   "execution_count": null,
   "metadata": {},
   "outputs": [],
   "source": []
  }
 ],
 "metadata": {
  "kernelspec": {
   "display_name": "Python 3 (ipykernel)",
   "language": "python",
   "name": "python3"
  },
  "language_info": {
   "codemirror_mode": {
    "name": "ipython",
    "version": 3
   },
   "file_extension": ".py",
   "mimetype": "text/x-python",
   "name": "python",
   "nbconvert_exporter": "python",
   "pygments_lexer": "ipython3",
   "version": "3.10.14"
  }
 },
 "nbformat": 4,
 "nbformat_minor": 4
}
